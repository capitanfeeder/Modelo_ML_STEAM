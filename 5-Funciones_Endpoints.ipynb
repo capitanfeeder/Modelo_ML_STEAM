{
 "cells": [
  {
   "cell_type": "markdown",
   "metadata": {},
   "source": [
    "# Creación de funciones para endpoints"
   ]
  },
  {
   "cell_type": "markdown",
   "metadata": {},
   "source": [
    "## Importamos librerías"
   ]
  },
  {
   "cell_type": "code",
   "execution_count": 2,
   "metadata": {},
   "outputs": [],
   "source": [
    "import pandas as pd\n",
    "import pyarrow as pa\n",
    "import pyarrow.parquet as pq\n",
    "import warnings\n",
    "warnings.filterwarnings('ignore')"
   ]
  },
  {
   "cell_type": "code",
   "execution_count": 3,
   "metadata": {},
   "outputs": [
    {
     "data": {
      "text/html": [
       "<div>\n",
       "<style scoped>\n",
       "    .dataframe tbody tr th:only-of-type {\n",
       "        vertical-align: middle;\n",
       "    }\n",
       "\n",
       "    .dataframe tbody tr th {\n",
       "        vertical-align: top;\n",
       "    }\n",
       "\n",
       "    .dataframe thead th {\n",
       "        text-align: right;\n",
       "    }\n",
       "</style>\n",
       "<table border=\"1\" class=\"dataframe\">\n",
       "  <thead>\n",
       "    <tr style=\"text-align: right;\">\n",
       "      <th></th>\n",
       "      <th>app_name</th>\n",
       "      <th>price</th>\n",
       "      <th>item_id</th>\n",
       "      <th>developer</th>\n",
       "      <th>release_year</th>\n",
       "      <th>genres</th>\n",
       "    </tr>\n",
       "  </thead>\n",
       "  <tbody>\n",
       "    <tr>\n",
       "      <th>0</th>\n",
       "      <td>Lost Summoner Kitty</td>\n",
       "      <td>4.99</td>\n",
       "      <td>761140</td>\n",
       "      <td>Kotoshiro</td>\n",
       "      <td>2018</td>\n",
       "      <td>Action</td>\n",
       "    </tr>\n",
       "    <tr>\n",
       "      <th>1</th>\n",
       "      <td>Ironbound</td>\n",
       "      <td>0.00</td>\n",
       "      <td>643980</td>\n",
       "      <td>Secret Level SRL</td>\n",
       "      <td>2018</td>\n",
       "      <td>Free to Play</td>\n",
       "    </tr>\n",
       "  </tbody>\n",
       "</table>\n",
       "</div>"
      ],
      "text/plain": [
       "              app_name  price  item_id         developer  release_year  \\\n",
       "0  Lost Summoner Kitty   4.99   761140         Kotoshiro          2018   \n",
       "1            Ironbound   0.00   643980  Secret Level SRL          2018   \n",
       "\n",
       "         genres  \n",
       "0        Action  \n",
       "1  Free to Play  "
      ]
     },
     "execution_count": 3,
     "metadata": {},
     "output_type": "execute_result"
    }
   ],
   "source": [
    "df_games = pd.read_parquet(\"Datasets/output_steam_games.parquet\") # Cargamos el dataset de juegos\n",
    "df_games.head(2)"
   ]
  },
  {
   "cell_type": "code",
   "execution_count": 4,
   "metadata": {},
   "outputs": [
    {
     "name": "stdout",
     "output_type": "stream",
     "text": [
      "<class 'pandas.core.frame.DataFrame'>\n",
      "RangeIndex: 28899 entries, 0 to 28898\n",
      "Data columns (total 6 columns):\n",
      " #   Column        Non-Null Count  Dtype  \n",
      "---  ------        --------------  -----  \n",
      " 0   app_name      28899 non-null  object \n",
      " 1   price         28899 non-null  float64\n",
      " 2   item_id       28899 non-null  int64  \n",
      " 3   developer     28899 non-null  object \n",
      " 4   release_year  28899 non-null  int64  \n",
      " 5   genres        28899 non-null  object \n",
      "dtypes: float64(1), int64(2), object(3)\n",
      "memory usage: 1.3+ MB\n"
     ]
    }
   ],
   "source": [
    "df_games.info()"
   ]
  },
  {
   "cell_type": "code",
   "execution_count": 8,
   "metadata": {},
   "outputs": [
    {
     "data": {
      "text/html": [
       "<div>\n",
       "<style scoped>\n",
       "    .dataframe tbody tr th:only-of-type {\n",
       "        vertical-align: middle;\n",
       "    }\n",
       "\n",
       "    .dataframe tbody tr th {\n",
       "        vertical-align: top;\n",
       "    }\n",
       "\n",
       "    .dataframe thead th {\n",
       "        text-align: right;\n",
       "    }\n",
       "</style>\n",
       "<table border=\"1\" class=\"dataframe\">\n",
       "  <thead>\n",
       "    <tr style=\"text-align: right;\">\n",
       "      <th></th>\n",
       "      <th>item_id</th>\n",
       "      <th>item_name</th>\n",
       "      <th>steam_id</th>\n",
       "      <th>items_count</th>\n",
       "      <th>user_id</th>\n",
       "      <th>playtime_hours</th>\n",
       "    </tr>\n",
       "  </thead>\n",
       "  <tbody>\n",
       "    <tr>\n",
       "      <th>0</th>\n",
       "      <td>10</td>\n",
       "      <td>Counter-Strike</td>\n",
       "      <td>76561197970982479</td>\n",
       "      <td>277</td>\n",
       "      <td>76561197970982479</td>\n",
       "      <td>0.10</td>\n",
       "    </tr>\n",
       "    <tr>\n",
       "      <th>1</th>\n",
       "      <td>30</td>\n",
       "      <td>Day of Defeat</td>\n",
       "      <td>76561197970982479</td>\n",
       "      <td>277</td>\n",
       "      <td>76561197970982479</td>\n",
       "      <td>0.12</td>\n",
       "    </tr>\n",
       "  </tbody>\n",
       "</table>\n",
       "</div>"
      ],
      "text/plain": [
       "   item_id       item_name           steam_id  items_count            user_id  \\\n",
       "0       10  Counter-Strike  76561197970982479          277  76561197970982479   \n",
       "1       30   Day of Defeat  76561197970982479          277  76561197970982479   \n",
       "\n",
       "   playtime_hours  \n",
       "0            0.10  \n",
       "1            0.12  "
      ]
     },
     "execution_count": 8,
     "metadata": {},
     "output_type": "execute_result"
    }
   ],
   "source": [
    "df_user_items = pd.read_parquet(\"Datasets/australian_users_items.parquet\") # Cargamos el dataset de items\n",
    "df_user_items.head(2)"
   ]
  },
  {
   "cell_type": "code",
   "execution_count": 6,
   "metadata": {},
   "outputs": [
    {
     "data": {
      "text/html": [
       "<div>\n",
       "<style scoped>\n",
       "    .dataframe tbody tr th:only-of-type {\n",
       "        vertical-align: middle;\n",
       "    }\n",
       "\n",
       "    .dataframe tbody tr th {\n",
       "        vertical-align: top;\n",
       "    }\n",
       "\n",
       "    .dataframe thead th {\n",
       "        text-align: right;\n",
       "    }\n",
       "</style>\n",
       "<table border=\"1\" class=\"dataframe\">\n",
       "  <thead>\n",
       "    <tr style=\"text-align: right;\">\n",
       "      <th></th>\n",
       "      <th>user_id</th>\n",
       "      <th>item_id</th>\n",
       "      <th>recommend</th>\n",
       "      <th>sentiment_analysis</th>\n",
       "      <th>posted_year</th>\n",
       "    </tr>\n",
       "  </thead>\n",
       "  <tbody>\n",
       "    <tr>\n",
       "      <th>0</th>\n",
       "      <td>76561197970982479</td>\n",
       "      <td>1250</td>\n",
       "      <td>True</td>\n",
       "      <td>2</td>\n",
       "      <td>2011</td>\n",
       "    </tr>\n",
       "    <tr>\n",
       "      <th>1</th>\n",
       "      <td>76561197970982479</td>\n",
       "      <td>22200</td>\n",
       "      <td>True</td>\n",
       "      <td>1</td>\n",
       "      <td>2011</td>\n",
       "    </tr>\n",
       "  </tbody>\n",
       "</table>\n",
       "</div>"
      ],
      "text/plain": [
       "             user_id  item_id  recommend  sentiment_analysis  posted_year\n",
       "0  76561197970982479     1250       True                   2         2011\n",
       "1  76561197970982479    22200       True                   1         2011"
      ]
     },
     "execution_count": 6,
     "metadata": {},
     "output_type": "execute_result"
    }
   ],
   "source": [
    "df_reviews = pd.read_parquet(\"Datasets/australian_user_reviews.parquet\") # Cargamos el dataset de reviews\n",
    "df_reviews.head(2)"
   ]
  },
  {
   "cell_type": "code",
   "execution_count": 7,
   "metadata": {},
   "outputs": [
    {
     "name": "stdout",
     "output_type": "stream",
     "text": [
      "<class 'pandas.core.frame.DataFrame'>\n",
      "RangeIndex: 59161 entries, 0 to 59160\n",
      "Data columns (total 5 columns):\n",
      " #   Column              Non-Null Count  Dtype \n",
      "---  ------              --------------  ----- \n",
      " 0   user_id             59161 non-null  object\n",
      " 1   item_id             59161 non-null  int64 \n",
      " 2   recommend           59161 non-null  bool  \n",
      " 3   sentiment_analysis  59161 non-null  int64 \n",
      " 4   posted_year         59161 non-null  int64 \n",
      "dtypes: bool(1), int64(3), object(1)\n",
      "memory usage: 1.9+ MB\n"
     ]
    }
   ],
   "source": [
    "df_reviews.info()"
   ]
  },
  {
   "cell_type": "code",
   "execution_count": 5,
   "metadata": {},
   "outputs": [
    {
     "data": {
      "text/html": [
       "<div>\n",
       "<style scoped>\n",
       "    .dataframe tbody tr th:only-of-type {\n",
       "        vertical-align: middle;\n",
       "    }\n",
       "\n",
       "    .dataframe tbody tr th {\n",
       "        vertical-align: top;\n",
       "    }\n",
       "\n",
       "    .dataframe thead th {\n",
       "        text-align: right;\n",
       "    }\n",
       "</style>\n",
       "<table border=\"1\" class=\"dataframe\">\n",
       "  <thead>\n",
       "    <tr style=\"text-align: right;\">\n",
       "      <th></th>\n",
       "      <th>app_name</th>\n",
       "      <th>price</th>\n",
       "      <th>item_id</th>\n",
       "      <th>developer</th>\n",
       "      <th>release_year</th>\n",
       "      <th>genres</th>\n",
       "      <th>user_id</th>\n",
       "      <th>recommend</th>\n",
       "      <th>sentiment_analysis</th>\n",
       "      <th>posted_year</th>\n",
       "    </tr>\n",
       "  </thead>\n",
       "  <tbody>\n",
       "    <tr>\n",
       "      <th>0</th>\n",
       "      <td>Pirates, Vikings, and Knights II</td>\n",
       "      <td>0.0</td>\n",
       "      <td>17570</td>\n",
       "      <td>Octoshark Studios</td>\n",
       "      <td>2010</td>\n",
       "      <td>Action</td>\n",
       "      <td>76561198010653835</td>\n",
       "      <td>True</td>\n",
       "      <td>2</td>\n",
       "      <td>2015</td>\n",
       "    </tr>\n",
       "    <tr>\n",
       "      <th>1</th>\n",
       "      <td>Pirates, Vikings, and Knights II</td>\n",
       "      <td>0.0</td>\n",
       "      <td>17570</td>\n",
       "      <td>Octoshark Studios</td>\n",
       "      <td>2010</td>\n",
       "      <td>Action</td>\n",
       "      <td>76561198075581042</td>\n",
       "      <td>True</td>\n",
       "      <td>2</td>\n",
       "      <td>2014</td>\n",
       "    </tr>\n",
       "  </tbody>\n",
       "</table>\n",
       "</div>"
      ],
      "text/plain": [
       "                           app_name  price  item_id          developer  \\\n",
       "0  Pirates, Vikings, and Knights II    0.0    17570  Octoshark Studios   \n",
       "1  Pirates, Vikings, and Knights II    0.0    17570  Octoshark Studios   \n",
       "\n",
       "   release_year  genres            user_id  recommend  sentiment_analysis  \\\n",
       "0          2010  Action  76561198010653835       True                   2   \n",
       "1          2010  Action  76561198075581042       True                   2   \n",
       "\n",
       "   posted_year  \n",
       "0         2015  \n",
       "1         2014  "
      ]
     },
     "execution_count": 5,
     "metadata": {},
     "output_type": "execute_result"
    }
   ],
   "source": [
    "df_games_and_reviews = pd.read_parquet(\"Datasets/games_and_reviews.parquet\") # Cargamos el dataset de reviews\n",
    "df_games_and_reviews.head(2)"
   ]
  },
  {
   "cell_type": "code",
   "execution_count": null,
   "metadata": {},
   "outputs": [],
   "source": [
    "df_reviews"
   ]
  },
  {
   "cell_type": "markdown",
   "metadata": {},
   "source": [
    "### Función `PlayTimeGenre`"
   ]
  },
  {
   "cell_type": "markdown",
   "metadata": {},
   "source": [
    "#### Función que devuelve el año con mas horas de juego para un género"
   ]
  },
  {
   "cell_type": "code",
   "execution_count": 42,
   "metadata": {},
   "outputs": [],
   "source": [
    "def PlayTimeGenre(genero, df_games: pd.DataFrame, df_user_items: pd.DataFrame):\n",
    "    # Convertimos el género proporcionado a minúsculas para una comparación sin distinción de mayúsculas\n",
    "    genero = genero.lower()\n",
    "    \n",
    "    # Filtramos los juegos por género de manera más flexible\n",
    "    df_filtered = df_games[df_games['genres'].str.lower().str.contains(fr'\\b{genero}\\b', na=False)]\n",
    "\n",
    "    if not df_filtered.empty:\n",
    "        # Convertimos 'item_id' a tipo de dato object en ambos DataFrames\n",
    "        df_user_items['item_id'] = df_user_items['item_id'].astype(str)\n",
    "        df_filtered['item_id'] = df_filtered['item_id'].astype(str)\n",
    "\n",
    "        df_merged = pd.merge(df_user_items, df_filtered[['item_id', 'release_year']], left_on='item_id', right_on='item_id')\n",
    "        \n",
    "        # Verificamos si la longitud de df_filtered es mayor a cero, es decir, se encontraron géneros\n",
    "        result = {\"Año con más horas jugadas para el género {}: {}\".format(genero.capitalize(), df_merged.groupby('release_year')['playtime_hours'].sum().idxmax())}\n",
    "    else:\n",
    "        result = {\"Año con más horas jugadas para género {}: {}\".format(genero.capitalize(), \"Género no encontrado en la base de datos\")}\n",
    "\n",
    "    return result"
   ]
  },
  {
   "cell_type": "code",
   "execution_count": 47,
   "metadata": {},
   "outputs": [
    {
     "data": {
      "text/plain": [
       "{'Año con más horas jugadas para el género Sports: 2015'}"
      ]
     },
     "execution_count": 47,
     "metadata": {},
     "output_type": "execute_result"
    }
   ],
   "source": [
    "PlayTimeGenre(\"Sports\", df_games, df_user_items)"
   ]
  },
  {
   "cell_type": "markdown",
   "metadata": {},
   "source": [
    "### Función `UserForGenre`"
   ]
  },
  {
   "cell_type": "markdown",
   "metadata": {},
   "source": [
    "#### Función que devuelve el usuario con más horas jugadas para un género "
   ]
  },
  {
   "cell_type": "code",
   "execution_count": 51,
   "metadata": {},
   "outputs": [],
   "source": [
    "def UserForGenre(genero: str, df_games: pd.DataFrame, df_user_items: pd.DataFrame):\n",
    "    # Convertimos el género proporcionado a minúsculas para una comparación sin distinción de mayúsculas\n",
    "    genero = genero.lower()\n",
    "    \n",
    "    # Filtramos los juegos por género de manera más flexible\n",
    "    df_filtered = df_games[df_games['genres'].str.lower().str.contains(fr'\\b{genero}\\b', na=False)]\n",
    "    \n",
    "    if not df_filtered.empty:\n",
    "        df_user_items['item_id'] = df_user_items['item_id'].astype(str)\n",
    "        \n",
    "        # Convertimos la columna 'item_id' en df_filtered a tipo 'str'\n",
    "        df_filtered['item_id'] = df_filtered['item_id'].astype(str)\n",
    "        \n",
    "        df_merged = pd.merge(df_user_items, df_filtered[['item_id', 'release_year']], on='item_id')\n",
    "        \n",
    "        # Filtramos los datos desde el año 2003 en adelante\n",
    "        df_merged = df_merged[df_merged['release_year'] >= 2003]\n",
    "        user_with_most_playtime = df_merged.groupby('user_id')['playtime_hours'].sum().idxmax()\n",
    "        playtime_by_year = df_merged.groupby(['release_year', 'user_id'])['playtime_hours'].sum().reset_index()\n",
    "        playtime_by_year = playtime_by_year[playtime_by_year['user_id'] == user_with_most_playtime]\n",
    "        playtime_by_year = playtime_by_year.rename(columns={'release_year': 'Año', 'playtime_hours': 'Horas'})\n",
    "        \n",
    "        # Convertimos las horas a enteros\n",
    "        playtime_by_year['Horas'] = playtime_by_year['Horas'].astype(int)\n",
    "        \n",
    "        result = {\n",
    "            \"Usuario con más horas jugadas para Género {}:\".format(genero.capitalize()): user_with_most_playtime,\n",
    "            \"Horas jugadas\": [{\"Año\": str(row['Año']), \"Horas\": row['Horas']} for _, row in playtime_by_year.iterrows()]\n",
    "        }\n",
    "    else:\n",
    "        result = {\"Usuario con más horas jugadas para Género {}:\".format(genero.capitalize()): \"Género no encontrado en la base de datos\", \"Horas jugadas\": []}\n",
    "    \n",
    "    return result\n"
   ]
  },
  {
   "cell_type": "code",
   "execution_count": 53,
   "metadata": {},
   "outputs": [
    {
     "data": {
      "text/plain": [
       "{'Usuario con más horas jugadas para Género Action:': 'Sp3ctre',\n",
       " 'Horas jugadas': [{'Año': '2003', 'Horas': 127},\n",
       "  {'Año': '2004', 'Horas': 2123},\n",
       "  {'Año': '2005', 'Horas': 355},\n",
       "  {'Año': '2006', 'Horas': 14},\n",
       "  {'Año': '2007', 'Horas': 1879},\n",
       "  {'Año': '2008', 'Horas': 3},\n",
       "  {'Año': '2009', 'Horas': 1805},\n",
       "  {'Año': '2010', 'Horas': 1301},\n",
       "  {'Año': '2011', 'Horas': 2581},\n",
       "  {'Año': '2012', 'Horas': 6304},\n",
       "  {'Año': '2013', 'Horas': 2007},\n",
       "  {'Año': '2014', 'Horas': 2178},\n",
       "  {'Año': '2015', 'Horas': 5236},\n",
       "  {'Año': '2016', 'Horas': 488},\n",
       "  {'Año': '2017', 'Horas': 722}]}"
      ]
     },
     "execution_count": 53,
     "metadata": {},
     "output_type": "execute_result"
    }
   ],
   "source": [
    "UserForGenre(\"Action\", df_games, df_user_items)"
   ]
  },
  {
   "cell_type": "markdown",
   "metadata": {},
   "source": [
    "### Función `UsersRecommend`"
   ]
  },
  {
   "cell_type": "markdown",
   "metadata": {},
   "source": [
    "#### Función que devuelve un Top 3 de los juegos mas recomendados por año"
   ]
  },
  {
   "cell_type": "code",
   "execution_count": 8,
   "metadata": {},
   "outputs": [],
   "source": [
    "def UsersRecommend(año: int, df_games_and_reviews: pd.DataFrame):\n",
    "    # Verificamos si el año está dentro del rango esperado\n",
    "    rango_aceptado = range(2010, 2016)\n",
    "    if año not in rango_aceptado:\n",
    "        return {\"message\": \"Mi base de datos solo tiene registros entre 2010 y 2015\"}\n",
    "\n",
    "    # Filtramos por el año deseado\n",
    "    df_filtered = df_games_and_reviews[df_games_and_reviews['release_year'] == año]\n",
    "\n",
    "    # Filtramos por comentarios recomendados y sentiment_analysis positivo/neutral\n",
    "    df_filtered = df_filtered[(df_filtered['recommend'] == True) & (df_filtered['sentiment_analysis'].isin([0, 1, 2]))]\n",
    "\n",
    "    # Obtenemos el top 3 de juegos recomendados\n",
    "    top_games = df_filtered['app_name'].value_counts().head(3).reset_index()\n",
    "    top_games = top_games.rename(columns={'index': 'Puesto 1', 'app_name': 'Juego'})\n",
    "\n",
    "    # Modificamos la estructura del resultado\n",
    "    result = [{\"Puesto {}\".format(i + 1): juego, 'recomendaciones': count} for i, (juego, count) in enumerate(zip(top_games['Juego'], top_games['count']))]\n",
    "\n",
    "    return result"
   ]
  },
  {
   "cell_type": "code",
   "execution_count": 13,
   "metadata": {},
   "outputs": [
    {
     "data": {
      "text/plain": [
       "[{'Puesto 1': 'Loadout', 'recomendaciones': 325},\n",
       " {'Puesto 2': 'Goat Simulator', 'recomendaciones': 254},\n",
       " {'Puesto 3': 'Insurgency', 'recomendaciones': 207}]"
      ]
     },
     "execution_count": 13,
     "metadata": {},
     "output_type": "execute_result"
    }
   ],
   "source": [
    "UsersRecommend(2014, df_games_and_reviews)"
   ]
  },
  {
   "cell_type": "markdown",
   "metadata": {},
   "source": [
    "### Función `UsersWorstDeveloper`"
   ]
  },
  {
   "cell_type": "markdown",
   "metadata": {},
   "source": [
    "#### Función que devuelve el Top 3 de peor desarrollador del año"
   ]
  },
  {
   "cell_type": "code",
   "execution_count": 57,
   "metadata": {},
   "outputs": [],
   "source": [
    "def UsersWorstDeveloper(año: int, df_games_and_reviews: pd.DataFrame):\n",
    "    # Verificamos si el año está dentro del rango esperado\n",
    "    rango_aceptado = range(2010, 2016)\n",
    "    if año not in rango_aceptado:\n",
    "        return {\"message\": \"Mi base de datos solo tiene registros entre 2010 y 2015\"}\n",
    "\n",
    "    # Filtramos por comentarios no recomendados y sentiment_analysis negativo\n",
    "    df_filtered = df_games_and_reviews[(df_games_and_reviews['recommend'] == False) & (df_games_and_reviews['sentiment_analysis'] == 0)]\n",
    "\n",
    "    # Filtramos por el año deseado\n",
    "    df_filtered_year = df_filtered[df_filtered['release_year'] == año]\n",
    "\n",
    "    # Si no hay datos para el año, retornamos mensaje\n",
    "    if not df_filtered_year.empty:\n",
    "        # Obtener los top 3 desarrolladores con menos recomendaciones\n",
    "        top_developers = df_filtered_year['developer'].value_counts().head(3).reset_index()\n",
    "        top_developers = top_developers.rename(columns={'index': 'Puesto 1', 'developer': 'Desarrollador'})\n",
    "\n",
    "        # Modificamos la estructura del resultado\n",
    "        result = [{\"Puesto {}\".format(i + 1): desarrollador} for i, desarrollador in enumerate(top_developers['Desarrollador'])]\n",
    "    else:\n",
    "        result = {\"No hay juegos no recomendados para el año {}\".format(año)}\n",
    "\n",
    "    return result"
   ]
  },
  {
   "cell_type": "code",
   "execution_count": 58,
   "metadata": {},
   "outputs": [
    {
     "data": {
      "text/plain": [
       "{'message': 'Mi base de datos solo tiene registros entre 2010 y 2015'}"
      ]
     },
     "execution_count": 58,
     "metadata": {},
     "output_type": "execute_result"
    }
   ],
   "source": [
    "UsersWorstDeveloper(2010, df_games_and_reviews)"
   ]
  },
  {
   "cell_type": "markdown",
   "metadata": {},
   "source": [
    "### Función `sentiment_analysis`"
   ]
  },
  {
   "cell_type": "markdown",
   "metadata": {},
   "source": [
    "#### Función que devuelve el conteo de las reviews positivas, neutrales y negativas de una empresa desarrolladora"
   ]
  },
  {
   "cell_type": "code",
   "execution_count": 59,
   "metadata": {},
   "outputs": [],
   "source": [
    "def sentiment_analysis(empresa_desarrolladora: str, df_games_and_reviews: pd.DataFrame):\n",
    "    # Filtramos por desarrolladora\n",
    "    df_filtered_developer = df_games_and_reviews[df_games_and_reviews['developer'] == empresa_desarrolladora]\n",
    "\n",
    "    # Verificamos que haya datos para la desarrolladora\n",
    "    if not df_filtered_developer.empty:\n",
    "        # Contamos los sentimientos y mapeamos el número del sentimiento a su etiqueta correspondiente\n",
    "        sentiment_counts = df_filtered_developer['sentiment_analysis'].value_counts().reset_index(drop=True)\n",
    "        sentiment_mapping = {0: 'Negative', 1: 'Neutral', 2: 'Positive'}\n",
    "        sentiment_counts.index = sentiment_counts.index.map(sentiment_mapping)\n",
    "        \n",
    "        result = {empresa_desarrolladora: sentiment_counts.to_dict()}\n",
    "    else:\n",
    "        result = 'No cuento con los registros de esa empresa en mi base de datos'\n",
    "\n",
    "    return result"
   ]
  },
  {
   "cell_type": "code",
   "execution_count": 61,
   "metadata": {},
   "outputs": [
    {
     "data": {
      "text/plain": [
       "{'Treyarch': {'Negative': 155, 'Neutral': 121, 'Positive': 37}}"
      ]
     },
     "execution_count": 61,
     "metadata": {},
     "output_type": "execute_result"
    }
   ],
   "source": [
    "sentiment_analysis('Treyarch', df_games_and_reviews)"
   ]
  }
 ],
 "metadata": {
  "kernelspec": {
   "display_name": "Python 3",
   "language": "python",
   "name": "python3"
  },
  "language_info": {
   "codemirror_mode": {
    "name": "ipython",
    "version": 3
   },
   "file_extension": ".py",
   "mimetype": "text/x-python",
   "name": "python",
   "nbconvert_exporter": "python",
   "pygments_lexer": "ipython3",
   "version": "3.11.6"
  }
 },
 "nbformat": 4,
 "nbformat_minor": 2
}
